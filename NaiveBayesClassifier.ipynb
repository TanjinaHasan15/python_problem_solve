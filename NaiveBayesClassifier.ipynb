{
  "nbformat": 4,
  "nbformat_minor": 0,
  "metadata": {
    "colab": {
      "provenance": [],
      "authorship_tag": "ABX9TyNos36TUyCrGjtKdjkfQUFi",
      "include_colab_link": true
    },
    "kernelspec": {
      "name": "python3",
      "display_name": "Python 3"
    },
    "language_info": {
      "name": "python"
    }
  },
  "cells": [
    {
      "cell_type": "markdown",
      "metadata": {
        "id": "view-in-github",
        "colab_type": "text"
      },
      "source": [
        "<a href=\"https://colab.research.google.com/github/TanjinaHasan15/python_problem_solve/blob/main/NaiveBayesClassifier.ipynb\" target=\"_parent\"><img src=\"https://colab.research.google.com/assets/colab-badge.svg\" alt=\"Open In Colab\"/></a>"
      ]
    },
    {
      "cell_type": "code",
      "source": [
        "# Task:\n",
        "# Create a dataset containing 100 news articles, with 50 from sports and 50 from politics.\n",
        "# Then apply a Naïve Bayes Classifier to the dataset, reporting the classification results.\n"
      ],
      "metadata": {
        "id": "tjJlGQUCPo3T"
      },
      "execution_count": null,
      "outputs": []
    },
    {
      "cell_type": "code",
      "execution_count": 1,
      "metadata": {
        "id": "XjE1_oSRNhD_",
        "colab": {
          "base_uri": "https://localhost:8080/",
          "height": 0
        },
        "outputId": "9b9e58f3-f7ae-4553-e02a-0cfb48e61c9f"
      },
      "outputs": [
        {
          "output_type": "stream",
          "name": "stdout",
          "text": [
            "Index(['link', 'headline', 'category', 'short_description', 'authors', 'date'], dtype='object')\n",
            "category\n",
            "POLITICS          35602\n",
            "WELLNESS          17945\n",
            "ENTERTAINMENT     17362\n",
            "TRAVEL             9900\n",
            "STYLE & BEAUTY     9814\n",
            "PARENTING          8791\n",
            "HEALTHY LIVING     6694\n",
            "QUEER VOICES       6347\n",
            "FOOD & DRINK       6340\n",
            "BUSINESS           5992\n",
            "COMEDY             5400\n",
            "SPORTS             5077\n",
            "BLACK VOICES       4583\n",
            "HOME & LIVING      4320\n",
            "PARENTS            3955\n",
            "THE WORLDPOST      3664\n",
            "WEDDINGS           3653\n",
            "WOMEN              3572\n",
            "CRIME              3562\n",
            "IMPACT             3484\n",
            "DIVORCE            3426\n",
            "WORLD NEWS         3299\n",
            "MEDIA              2944\n",
            "WEIRD NEWS         2777\n",
            "GREEN              2622\n",
            "WORLDPOST          2579\n",
            "RELIGION           2577\n",
            "STYLE              2254\n",
            "SCIENCE            2206\n",
            "TECH               2104\n",
            "TASTE              2096\n",
            "MONEY              1756\n",
            "ARTS               1509\n",
            "ENVIRONMENT        1444\n",
            "FIFTY              1401\n",
            "GOOD NEWS          1398\n",
            "U.S. NEWS          1377\n",
            "ARTS & CULTURE     1339\n",
            "COLLEGE            1144\n",
            "LATINO VOICES      1130\n",
            "CULTURE & ARTS     1074\n",
            "EDUCATION          1014\n",
            "Name: count, dtype: int64\n"
          ]
        }
      ],
      "source": [
        "import pandas as pd\n",
        "df = pd.read_json(\"News_Category_Dataset_v3.json\", lines=True)\n",
        "print(df.columns)\n",
        "print(df['category'].value_counts())\n"
      ]
    },
    {
      "cell_type": "code",
      "source": [
        "df_filtered = df[df['category'].isin(['SPORTS', 'POLITICS'])]\n",
        "# Use 'headline' as text and 'category' as label\n",
        "texts = df_filtered['headline'].values\n",
        "labels = df_filtered['category'].values\n"
      ],
      "metadata": {
        "id": "4p6ROqWEOwsJ"
      },
      "execution_count": 2,
      "outputs": []
    },
    {
      "cell_type": "code",
      "source": [
        "from sklearn.model_selection import train_test_split\n",
        "from sklearn.feature_extraction.text import CountVectorizer\n",
        "from sklearn.naive_bayes import MultinomialNB\n",
        "from sklearn.metrics import classification_report, accuracy_score, confusion_matrix\n",
        "X_train, X_test, y_train, y_test = train_test_split(texts, labels, test_size=0.2, random_state=42)\n",
        "vectorizer = CountVectorizer(stop_words='english')\n",
        "X_train_vec = vectorizer.fit_transform(X_train)\n",
        "X_test_vec = vectorizer.transform(X_test)\n"
      ],
      "metadata": {
        "id": "AS_TXlJRO6tt"
      },
      "execution_count": 3,
      "outputs": []
    },
    {
      "cell_type": "code",
      "source": [
        "model = MultinomialNB()\n",
        "model.fit(X_train_vec, y_train)\n",
        "y_pred = model.predict(X_test_vec)\n"
      ],
      "metadata": {
        "id": "bALUQSQMPFSJ"
      },
      "execution_count": 4,
      "outputs": []
    },
    {
      "cell_type": "code",
      "source": [
        "print(\"Accuracy:\", accuracy_score(y_test, y_pred))\n",
        "print(\"\\nConfusion Matrix:\\n\", confusion_matrix(y_test, y_pred))\n",
        "print(\"\\nClassification Report:\\n\", classification_report(y_test, y_pred))"
      ],
      "metadata": {
        "colab": {
          "base_uri": "https://localhost:8080/",
          "height": 0
        },
        "id": "SrjDjEl9PLDp",
        "outputId": "7df4859a-5c26-448e-aa63-4aa681c009a5"
      },
      "execution_count": 5,
      "outputs": [
        {
          "output_type": "stream",
          "name": "stdout",
          "text": [
            "Accuracy: 0.9705014749262537\n",
            "\n",
            "Confusion Matrix:\n",
            " [[7047   99]\n",
            " [ 141  849]]\n",
            "\n",
            "Classification Report:\n",
            "               precision    recall  f1-score   support\n",
            "\n",
            "    POLITICS       0.98      0.99      0.98      7146\n",
            "      SPORTS       0.90      0.86      0.88       990\n",
            "\n",
            "    accuracy                           0.97      8136\n",
            "   macro avg       0.94      0.92      0.93      8136\n",
            "weighted avg       0.97      0.97      0.97      8136\n",
            "\n"
          ]
        }
      ]
    }
  ]
}